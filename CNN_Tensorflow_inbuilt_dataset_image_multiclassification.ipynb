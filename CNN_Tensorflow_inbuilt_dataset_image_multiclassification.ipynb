{
 "cells": [
  {
   "cell_type": "markdown",
   "id": "a2f71925-ec35-4947-9651-c7fdf8aa5e68",
   "metadata": {},
   "source": [
    "# CNN - Tensorflow inbuilt image dataset multiclass-classification"
   ]
  },
  {
   "cell_type": "code",
   "execution_count": 37,
   "id": "8bf6562d-b6d5-4ab7-8a08-b579e478cf5f",
   "metadata": {},
   "outputs": [],
   "source": [
    "import tensorflow as tf\n",
    "from tensorflow.keras import datasets, layers, models\n",
    "import matplotlib.pyplot as plt\n",
    "import numpy as np\n",
    "import seaborn as sns"
   ]
  },
  {
   "cell_type": "code",
   "execution_count": 2,
   "id": "62b775cc-d07f-414e-afbe-1a5b79cedb16",
   "metadata": {},
   "outputs": [
    {
     "name": "stdout",
     "output_type": "stream",
     "text": [
      "Downloading data from https://www.cs.toronto.edu/~kriz/cifar-10-python.tar.gz\n",
      "170498071/170498071 [==============================] - 22s 0us/step\n"
     ]
    }
   ],
   "source": [
    "(X_train, y_train),(X_test, y_test) = datasets.cifar10.load_data()"
   ]
  },
  {
   "cell_type": "code",
   "execution_count": 3,
   "id": "31afaec5-eba5-4b01-b1f7-7cb870ed7d48",
   "metadata": {},
   "outputs": [
    {
     "data": {
      "text/plain": [
       "(50000, 32, 32, 3)"
      ]
     },
     "execution_count": 3,
     "metadata": {},
     "output_type": "execute_result"
    }
   ],
   "source": [
    "X_train.shape"
   ]
  },
  {
   "cell_type": "code",
   "execution_count": 4,
   "id": "f4195650-04c5-47d9-8382-89444fe85a5c",
   "metadata": {},
   "outputs": [
    {
     "data": {
      "text/plain": [
       "(10000, 32, 32, 3)"
      ]
     },
     "execution_count": 4,
     "metadata": {},
     "output_type": "execute_result"
    }
   ],
   "source": [
    "X_test.shape"
   ]
  },
  {
   "cell_type": "code",
   "execution_count": 5,
   "id": "94cbcd13-b108-4e7b-a639-37da4e9f773d",
   "metadata": {},
   "outputs": [
    {
     "data": {
      "text/plain": [
       "array([[[ 59,  62,  63],\n",
       "        [ 43,  46,  45],\n",
       "        [ 50,  48,  43],\n",
       "        ...,\n",
       "        [158, 132, 108],\n",
       "        [152, 125, 102],\n",
       "        [148, 124, 103]],\n",
       "\n",
       "       [[ 16,  20,  20],\n",
       "        [  0,   0,   0],\n",
       "        [ 18,   8,   0],\n",
       "        ...,\n",
       "        [123,  88,  55],\n",
       "        [119,  83,  50],\n",
       "        [122,  87,  57]],\n",
       "\n",
       "       [[ 25,  24,  21],\n",
       "        [ 16,   7,   0],\n",
       "        [ 49,  27,   8],\n",
       "        ...,\n",
       "        [118,  84,  50],\n",
       "        [120,  84,  50],\n",
       "        [109,  73,  42]],\n",
       "\n",
       "       ...,\n",
       "\n",
       "       [[208, 170,  96],\n",
       "        [201, 153,  34],\n",
       "        [198, 161,  26],\n",
       "        ...,\n",
       "        [160, 133,  70],\n",
       "        [ 56,  31,   7],\n",
       "        [ 53,  34,  20]],\n",
       "\n",
       "       [[180, 139,  96],\n",
       "        [173, 123,  42],\n",
       "        [186, 144,  30],\n",
       "        ...,\n",
       "        [184, 148,  94],\n",
       "        [ 97,  62,  34],\n",
       "        [ 83,  53,  34]],\n",
       "\n",
       "       [[177, 144, 116],\n",
       "        [168, 129,  94],\n",
       "        [179, 142,  87],\n",
       "        ...,\n",
       "        [216, 184, 140],\n",
       "        [151, 118,  84],\n",
       "        [123,  92,  72]]], dtype=uint8)"
      ]
     },
     "execution_count": 5,
     "metadata": {},
     "output_type": "execute_result"
    }
   ],
   "source": [
    "X_train[0]"
   ]
  },
  {
   "cell_type": "code",
   "execution_count": 7,
   "id": "071d1e9d-490e-440a-88c8-8905a949b89c",
   "metadata": {},
   "outputs": [
    {
     "data": {
      "text/plain": [
       "(50000, 1)"
      ]
     },
     "execution_count": 7,
     "metadata": {},
     "output_type": "execute_result"
    }
   ],
   "source": [
    "y_train.shape"
   ]
  },
  {
   "cell_type": "code",
   "execution_count": 8,
   "id": "1d915ead-83d2-41c7-9f62-e904c59d374a",
   "metadata": {},
   "outputs": [
    {
     "data": {
      "text/plain": [
       "array([6, 9, 9, 4, 1], dtype=uint8)"
      ]
     },
     "execution_count": 8,
     "metadata": {},
     "output_type": "execute_result"
    }
   ],
   "source": [
    "y_train = y_train.reshape(-1,)\n",
    "y_train[:5]"
   ]
  },
  {
   "cell_type": "code",
   "execution_count": null,
   "id": "62b2d1ac-f90c-4e53-928a-b3fe035e6282",
   "metadata": {},
   "outputs": [],
   "source": []
  },
  {
   "cell_type": "code",
   "execution_count": 9,
   "id": "8788914d-8e98-4c6e-bc9d-d0d93737f5d3",
   "metadata": {},
   "outputs": [],
   "source": [
    "classes = [\"airplane\", \"automobile\", \"bird\", \"cat\", \"deer\", \"dog\", \"frog\", \"horse\", \"ship\", \"truck\"]"
   ]
  },
  {
   "cell_type": "code",
   "execution_count": 10,
   "id": "029a4270-d4c8-40a2-8b9a-e684e80e244e",
   "metadata": {},
   "outputs": [
    {
     "data": {
      "text/plain": [
       "'truck'"
      ]
     },
     "execution_count": 10,
     "metadata": {},
     "output_type": "execute_result"
    }
   ],
   "source": [
    "classes[9]"
   ]
  },
  {
   "cell_type": "code",
   "execution_count": 12,
   "id": "490700aa-04d3-451f-81d9-a0b054d9c665",
   "metadata": {},
   "outputs": [],
   "source": [
    "def plot_sample(X, y, index):\n",
    "    plt.figure(figsize=(15,2))\n",
    "    plt.imshow(X[index])\n",
    "    plt.xlabel(classes[y[index]])\n",
    "    plt.show()"
   ]
  },
  {
   "cell_type": "code",
   "execution_count": 15,
   "id": "0031b55b-401d-4144-89e1-40170fa6110d",
   "metadata": {},
   "outputs": [
    {
     "data": {
      "image/png": "[encoded data removed]",
      "text/plain": [
       "<Figure size 1500x200 with 1 Axes>"
      ]
     },
     "metadata": {},
     "output_type": "display_data"
    }
   ],
   "source": [
    "plot_sample(X_train, y_train, 15)"
   ]
  },
  {
   "cell_type": "code",
   "execution_count": 16,
   "id": "960a2ac8-cbd6-4e21-a250-7db26a6709cd",
   "metadata": {},
   "outputs": [
    {
     "data": {
      "image/png": "[encoded data removed]",
      "text/plain": [
       "<Figure size 1500x200 with 1 Axes>"
      ]
     },
     "metadata": {},
     "output_type": "display_data"
    }
   ],
   "source": [
    "plot_sample(X_train, y_train, 25)"
   ]
  },
  {
   "cell_type": "code",
   "execution_count": 17,
   "id": "30783694-daa0-4a28-bea5-5a8597d21faa",
   "metadata": {},
   "outputs": [],
   "source": [
    "##Normalize data\n",
    "\n",
    "X_train = X_train/255.0\n",
    "X_test = X_test/255.0"
   ]
  },
  {
   "cell_type": "markdown",
   "id": "65c98d29-f585-4c65-aa86-5a37cf1d7f7e",
   "metadata": {},
   "source": [
    "# Simple ANN\n",
    "\n"
   ]
  },
  {
   "cell_type": "code",
   "execution_count": 18,
   "id": "ade9cb09-f81c-4921-b4ac-4536ee050c45",
   "metadata": {},
   "outputs": [
    {
     "name": "stdout",
     "output_type": "stream",
     "text": [
      "Epoch 1/5\n",
      "1563/1563 [==============================] - 136s 86ms/step - loss: 1.8190 - accuracy: 0.3511\n",
      "Epoch 2/5\n",
      "1563/1563 [==============================] - 141s 90ms/step - loss: 1.6264 - accuracy: 0.4246\n",
      "Epoch 3/5\n",
      "1563/1563 [==============================] - 146s 94ms/step - loss: 1.5436 - accuracy: 0.4546\n",
      "Epoch 4/5\n",
      "1563/1563 [==============================] - 141s 90ms/step - loss: 1.4852 - accuracy: 0.4767\n",
      "Epoch 5/5\n",
      "1563/1563 [==============================] - 142s 91ms/step - loss: 1.4326 - accuracy: 0.4954\n"
     ]
    },
    {
     "data": {
      "text/plain": [
       "<keras.src.callbacks.History at 0x1f450c6cb50>"
      ]
     },
     "execution_count": 18,
     "metadata": {},
     "output_type": "execute_result"
    }
   ],
   "source": [
    "ann = models.Sequential([\n",
    "    layers.Flatten(input_shape = (32,32,3)),\n",
    "    layers.Dense(3000, activation='relu'),\n",
    "    layers.Dense(1000, activation='relu'),\n",
    "    layers.Dense(10, activation='sigmoid') ])\n",
    "\n",
    "ann.compile(optimizer=\"SGD\",\n",
    "            loss = \"sparse_categorical_crossentropy\",\n",
    "            metrics = [\"accuracy\"])\n",
    "ann.fit(X_train, y_train, epochs=5)"
   ]
  },
  {
   "cell_type": "code",
   "execution_count": 19,
   "id": "811fffa6-5c98-4214-b5db-8e5d0af9a9ed",
   "metadata": {},
   "outputs": [
    {
     "name": "stdout",
     "output_type": "stream",
     "text": [
      "313/313 [==============================] - 6s 19ms/step - loss: 1.4680 - accuracy: 0.4824\n"
     ]
    },
    {
     "data": {
      "text/plain": [
       "[1.4679956436157227, 0.48240000009536743]"
      ]
     },
     "execution_count": 19,
     "metadata": {},
     "output_type": "execute_result"
    }
   ],
   "source": [
    "ann.evaluate(X_test, y_test)"
   ]
  },
  {
   "cell_type": "code",
   "execution_count": 20,
   "id": "4145abd5-5169-413c-bd99-4fbb19c9697e",
   "metadata": {},
   "outputs": [
    {
     "name": "stdout",
     "output_type": "stream",
     "text": [
      "313/313 [==============================] - 6s 18ms/step\n",
      "Classification Report:\n",
      "               precision    recall  f1-score   support\n",
      "\n",
      "           0       0.67      0.45      0.54      1000\n",
      "           1       0.51      0.67      0.58      1000\n",
      "           2       0.40      0.35      0.37      1000\n",
      "           3       0.31      0.46      0.37      1000\n",
      "           4       0.53      0.30      0.39      1000\n",
      "           5       0.50      0.26      0.34      1000\n",
      "           6       0.53      0.54      0.54      1000\n",
      "           7       0.52      0.56      0.54      1000\n",
      "           8       0.67      0.55      0.60      1000\n",
      "           9       0.41      0.69      0.51      1000\n",
      "\n",
      "    accuracy                           0.48     10000\n",
      "   macro avg       0.51      0.48      0.48     10000\n",
      "weighted avg       0.51      0.48      0.48     10000\n",
      "\n"
     ]
    }
   ],
   "source": [
    "from sklearn.metrics import confusion_matrix, classification_report\n",
    "y_pred = ann.predict(X_test)\n",
    "y_pred_classes = [np.argmax(element) for element in y_pred]\n",
    "print(\"Classification Report:\\n\", classification_report(y_test, y_pred_classes))"
   ]
  },
  {
   "cell_type": "markdown",
   "id": "9fdc319d-f335-4fb5-b41b-5ff577119641",
   "metadata": {},
   "source": [
    "From ANN the accuarcy is less(48%), hence ANNis not peforming in image classification data"
   ]
  },
  {
   "cell_type": "markdown",
   "id": "1abb7de4-f81d-4fbd-9294-d41027ef2ea0",
   "metadata": {},
   "source": [
    "# CNN"
   ]
  },
  {
   "cell_type": "code",
   "execution_count": 24,
   "id": "ff39b69f-06fd-40ef-a2a3-80a15c971608",
   "metadata": {},
   "outputs": [],
   "source": [
    "cnn = models.Sequential([\n",
    "    #CNN\n",
    "    layers.Conv2D(filters=32, kernel_size=(3,3), activation=\"relu\", input_shape=(32,32,3)),\n",
    "    layers.MaxPool2D((2,2)),\n",
    "\n",
    "    layers.Conv2D(filters=64, kernel_size=(3,3), activation=\"relu\"),\n",
    "    layers.MaxPool2D((2,2)),\n",
    "\n",
    "    #Dense\n",
    "    layers.Flatten(),\n",
    "    layers.Dense(64, activation='relu'),\n",
    "    layers.Dense(10, activation='softmax')])\n"
   ]
  },
  {
   "cell_type": "code",
   "execution_count": 25,
   "id": "0d8543bb-c971-44c8-9975-e76d1074ed97",
   "metadata": {},
   "outputs": [],
   "source": [
    "cnn.compile(optimizer=\"adam\",\n",
    "            loss = \"sparse_categorical_crossentropy\",\n",
    "            metrics = [\"accuracy\"])"
   ]
  },
  {
   "cell_type": "code",
   "execution_count": 26,
   "id": "787be153-3bf2-4a4d-be99-0f44fb8eb9fe",
   "metadata": {},
   "outputs": [
    {
     "name": "stdout",
     "output_type": "stream",
     "text": [
      "Epoch 1/10\n",
      "1563/1563 [==============================] - 36s 22ms/step - loss: 1.4925 - accuracy: 0.4624\n",
      "Epoch 2/10\n",
      "1563/1563 [==============================] - 36s 23ms/step - loss: 1.1364 - accuracy: 0.6020\n",
      "Epoch 3/10\n",
      "1563/1563 [==============================] - 37s 23ms/step - loss: 1.0027 - accuracy: 0.6511\n",
      "Epoch 4/10\n",
      "1563/1563 [==============================] - 36s 23ms/step - loss: 0.9178 - accuracy: 0.6792\n",
      "Epoch 5/10\n",
      "1563/1563 [==============================] - 37s 23ms/step - loss: 0.8583 - accuracy: 0.6998\n",
      "Epoch 6/10\n",
      "1563/1563 [==============================] - 38s 24ms/step - loss: 0.8024 - accuracy: 0.7200\n",
      "Epoch 7/10\n",
      "1563/1563 [==============================] - 37s 24ms/step - loss: 0.7579 - accuracy: 0.7371\n",
      "Epoch 8/10\n",
      "1563/1563 [==============================] - 38s 24ms/step - loss: 0.7178 - accuracy: 0.7512\n",
      "Epoch 9/10\n",
      "1563/1563 [==============================] - 39s 25ms/step - loss: 0.6854 - accuracy: 0.7611\n",
      "Epoch 10/10\n",
      "1563/1563 [==============================] - 38s 25ms/step - loss: 0.6505 - accuracy: 0.7719\n"
     ]
    },
    {
     "data": {
      "text/plain": [
       "<keras.src.callbacks.History at 0x1f445873c10>"
      ]
     },
     "execution_count": 26,
     "metadata": {},
     "output_type": "execute_result"
    }
   ],
   "source": [
    "cnn.fit(X_train, y_train, epochs=10)"
   ]
  },
  {
   "cell_type": "code",
   "execution_count": 27,
   "id": "51ffec5b-5244-4bb9-af5b-0183e9360dd5",
   "metadata": {},
   "outputs": [
    {
     "name": "stdout",
     "output_type": "stream",
     "text": [
      "313/313 [==============================] - 3s 9ms/step - loss: 0.8992 - accuracy: 0.7018\n"
     ]
    },
    {
     "data": {
      "text/plain": [
       "[0.8991849422454834, 0.7017999887466431]"
      ]
     },
     "execution_count": 27,
     "metadata": {},
     "output_type": "execute_result"
    }
   ],
   "source": [
    "cnn.evaluate(X_test, y_test)"
   ]
  },
  {
   "cell_type": "code",
   "execution_count": 28,
   "id": "9df337e4-7f9b-4fe1-853e-4bd22d1d21de",
   "metadata": {},
   "outputs": [],
   "source": [
    "y_test = y_test.reshape(-1, )"
   ]
  },
  {
   "cell_type": "code",
   "execution_count": 29,
   "id": "104c026f-c37f-46a0-ad50-95f78b720c94",
   "metadata": {},
   "outputs": [
    {
     "data": {
      "image/png": "[encoded data removed]",
      "text/plain": [
       "<Figure size 1500x200 with 1 Axes>"
      ]
     },
     "metadata": {},
     "output_type": "display_data"
    }
   ],
   "source": [
    "plot_sample(X_test, y_test, 1)"
   ]
  },
  {
   "cell_type": "code",
   "execution_count": 30,
   "id": "006a843b-e4cc-4b45-ba7d-74f2623a277f",
   "metadata": {},
   "outputs": [
    {
     "name": "stdout",
     "output_type": "stream",
     "text": [
      "313/313 [==============================] - 3s 9ms/step\n"
     ]
    },
    {
     "data": {
      "text/plain": [
       "array([[5.23607770e-04, 6.03742010e-05, 2.06821482e-03, 6.31022334e-01,\n",
       "        1.91556988e-03, 2.63547361e-01, 2.13473826e-03, 1.26543185e-02,\n",
       "        8.35606083e-02, 2.51290761e-03],\n",
       "       [3.72386239e-02, 2.57482350e-01, 3.39742019e-06, 2.08292840e-06,\n",
       "        6.28580281e-08, 3.49964921e-07, 3.44794721e-10, 4.67348445e-06,\n",
       "        7.04124033e-01, 1.14438229e-03],\n",
       "       [1.44603467e-02, 1.80792809e-02, 3.81611346e-04, 1.79745280e-03,\n",
       "        2.79419764e-04, 4.34973015e-04, 3.60800514e-05, 8.24524264e-04,\n",
       "        9.54498053e-01, 9.20829549e-03],\n",
       "       [8.80616367e-01, 1.56477880e-04, 6.30997494e-02, 6.11557771e-05,\n",
       "        1.89076673e-05, 3.17298441e-06, 6.25636358e-06, 1.39840324e-06,\n",
       "        5.60194403e-02, 1.69761915e-05],\n",
       "       [2.55570831e-06, 5.70224302e-06, 5.41663021e-02, 1.46919638e-02,\n",
       "        1.36906132e-01, 1.21239189e-03, 7.92943418e-01, 3.32446530e-06,\n",
       "        6.78392389e-05, 3.66572976e-07]], dtype=float32)"
      ]
     },
     "execution_count": 30,
     "metadata": {},
     "output_type": "execute_result"
    }
   ],
   "source": [
    "y_pred = cnn.predict(X_test)\n",
    "y_pred[:5]"
   ]
  },
  {
   "cell_type": "code",
   "execution_count": 31,
   "id": "7096e736-7e8f-4298-9269-37088de9b6df",
   "metadata": {},
   "outputs": [
    {
     "data": {
      "text/plain": [
       "3"
      ]
     },
     "execution_count": 31,
     "metadata": {},
     "output_type": "execute_result"
    }
   ],
   "source": [
    "np.argmax(y_pred[0])"
   ]
  },
  {
   "cell_type": "code",
   "execution_count": 32,
   "id": "d0f32e97-f87f-4420-9f3b-211a2a33a9ef",
   "metadata": {},
   "outputs": [
    {
     "data": {
      "text/plain": [
       "[3, 8, 8, 0, 6]"
      ]
     },
     "execution_count": 32,
     "metadata": {},
     "output_type": "execute_result"
    }
   ],
   "source": [
    "y_classes_from_pred = [np.argmax(element) for element in y_pred]\n",
    "y_classes_from_pred[:5]"
   ]
  },
  {
   "cell_type": "code",
   "execution_count": 33,
   "id": "19dea96c-deb4-4295-9bc5-e7f0055bad95",
   "metadata": {},
   "outputs": [
    {
     "data": {
      "text/plain": [
       "array([3, 8, 8, 0, 6], dtype=uint8)"
      ]
     },
     "execution_count": 33,
     "metadata": {},
     "output_type": "execute_result"
    }
   ],
   "source": [
    "y_test[:5]"
   ]
  },
  {
   "cell_type": "code",
   "execution_count": 35,
   "id": "18914689-94d6-442d-9ff9-2bc9dee87563",
   "metadata": {},
   "outputs": [
    {
     "name": "stdout",
     "output_type": "stream",
     "text": [
      "Classification Report:\n",
      "               precision    recall  f1-score   support\n",
      "\n",
      "           0       0.67      0.76      0.72      1000\n",
      "           1       0.81      0.83      0.82      1000\n",
      "           2       0.54      0.66      0.60      1000\n",
      "           3       0.60      0.42      0.50      1000\n",
      "           4       0.72      0.56      0.63      1000\n",
      "           5       0.66      0.60      0.63      1000\n",
      "           6       0.75      0.80      0.78      1000\n",
      "           7       0.70      0.79      0.74      1000\n",
      "           8       0.77      0.82      0.80      1000\n",
      "           9       0.79      0.76      0.77      1000\n",
      "\n",
      "    accuracy                           0.70     10000\n",
      "   macro avg       0.70      0.70      0.70     10000\n",
      "weighted avg       0.70      0.70      0.70     10000\n",
      "\n"
     ]
    }
   ],
   "source": [
    "print(\"Classification Report:\\n\", classification_report(y_test, y_classes_from_pred))"
   ]
  },
  {
   "cell_type": "markdown",
   "id": "3240cf3c-bfeb-4181-99c6-7e5bcd2ffee1",
   "metadata": {},
   "source": [
    "Here accuracy is good , it's better than ANN"
   ]
  },
  {
   "cell_type": "code",
   "execution_count": null,
   "id": "2931c2f2-ad37-4de7-8a37-91707d78096b",
   "metadata": {},
   "outputs": [],
   "source": []
  }
 ],
 "metadata": {
  "kernelspec": {
   "display_name": "Python 3 (ipykernel)",
   "language": "python",
   "name": "python3"
  },
  "language_info": {
   "codemirror_mode": {
    "name": "ipython",
    "version": 3
   },
   "file_extension": ".py",
   "mimetype": "text/x-python",
   "name": "python",
   "nbconvert_exporter": "python",
   "pygments_lexer": "ipython3",
   "version": "3.11.5"
  }
 },
 "nbformat": 4,
 "nbformat_minor": 5
}
